{
 "cells": [
  {
   "cell_type": "code",
   "execution_count": 1,
   "id": "db54a310",
   "metadata": {},
   "outputs": [],
   "source": [
    "import numpy as np\n",
    "import pandas as pd\n",
    "from pandas_datareader import data as wb\n",
    "import matplotlib.pyplot as plt\n",
    "import yahoo_fin.stock_info as si"
   ]
  },
  {
   "cell_type": "code",
   "execution_count": 3,
   "id": "05355fb5",
   "metadata": {},
   "outputs": [],
   "source": [
    "tickers = ['FB', 'AMZN','AAPL', 'MSFT', 'NFLX', 'GOOGL']\n",
    "mydata = pd.DataFrame()\n",
    "for t in tickers:\n",
    "    mydata[t] = wb.DataReader(t, data_source='yahoo', start='1995-1-1')['Adj Close']"
   ]
  },
  {
   "cell_type": "code",
   "execution_count": 5,
   "id": "dec16c19",
   "metadata": {},
   "outputs": [
    {
     "name": "stdout",
     "output_type": "stream",
     "text": [
      "<class 'pandas.core.frame.DataFrame'>\n",
      "DatetimeIndex: 2354 entries, 2012-05-18 to 2021-09-24\n",
      "Data columns (total 5 columns):\n",
      " #   Column  Non-Null Count  Dtype  \n",
      "---  ------  --------------  -----  \n",
      " 0   FB      2354 non-null   float64\n",
      " 1   AMZN    2354 non-null   float64\n",
      " 2   MSFT    2354 non-null   float64\n",
      " 3   NFLX    2354 non-null   float64\n",
      " 4   GOOGL   2354 non-null   float64\n",
      "dtypes: float64(5)\n",
      "memory usage: 110.3 KB\n"
     ]
    }
   ],
   "source": [
    "mydata.info()"
   ]
  },
  {
   "cell_type": "code",
   "execution_count": 6,
   "id": "bb1f7e03",
   "metadata": {},
   "outputs": [
    {
     "data": {
      "text/html": [
       "<div>\n",
       "<style scoped>\n",
       "    .dataframe tbody tr th:only-of-type {\n",
       "        vertical-align: middle;\n",
       "    }\n",
       "\n",
       "    .dataframe tbody tr th {\n",
       "        vertical-align: top;\n",
       "    }\n",
       "\n",
       "    .dataframe thead th {\n",
       "        text-align: right;\n",
       "    }\n",
       "</style>\n",
       "<table border=\"1\" class=\"dataframe\">\n",
       "  <thead>\n",
       "    <tr style=\"text-align: right;\">\n",
       "      <th></th>\n",
       "      <th>FB</th>\n",
       "      <th>AMZN</th>\n",
       "      <th>MSFT</th>\n",
       "      <th>NFLX</th>\n",
       "      <th>GOOGL</th>\n",
       "    </tr>\n",
       "    <tr>\n",
       "      <th>Date</th>\n",
       "      <th></th>\n",
       "      <th></th>\n",
       "      <th></th>\n",
       "      <th></th>\n",
       "      <th></th>\n",
       "    </tr>\n",
       "  </thead>\n",
       "  <tbody>\n",
       "    <tr>\n",
       "      <th>2012-05-18</th>\n",
       "      <td>38.230000</td>\n",
       "      <td>213.850006</td>\n",
       "      <td>24.047728</td>\n",
       "      <td>9.994286</td>\n",
       "      <td>300.500488</td>\n",
       "    </tr>\n",
       "    <tr>\n",
       "      <th>2012-05-21</th>\n",
       "      <td>34.029999</td>\n",
       "      <td>218.110001</td>\n",
       "      <td>24.442087</td>\n",
       "      <td>10.248571</td>\n",
       "      <td>307.362366</td>\n",
       "    </tr>\n",
       "    <tr>\n",
       "      <th>2012-05-22</th>\n",
       "      <td>31.000000</td>\n",
       "      <td>215.330002</td>\n",
       "      <td>24.450296</td>\n",
       "      <td>9.672857</td>\n",
       "      <td>300.700714</td>\n",
       "    </tr>\n",
       "    <tr>\n",
       "      <th>2012-05-23</th>\n",
       "      <td>32.000000</td>\n",
       "      <td>217.279999</td>\n",
       "      <td>23.916271</td>\n",
       "      <td>10.272857</td>\n",
       "      <td>305.035034</td>\n",
       "    </tr>\n",
       "    <tr>\n",
       "      <th>2012-05-24</th>\n",
       "      <td>33.029999</td>\n",
       "      <td>215.240005</td>\n",
       "      <td>23.883410</td>\n",
       "      <td>10.038571</td>\n",
       "      <td>302.132141</td>\n",
       "    </tr>\n",
       "  </tbody>\n",
       "</table>\n",
       "</div>"
      ],
      "text/plain": [
       "                   FB        AMZN       MSFT       NFLX       GOOGL\n",
       "Date                                                               \n",
       "2012-05-18  38.230000  213.850006  24.047728   9.994286  300.500488\n",
       "2012-05-21  34.029999  218.110001  24.442087  10.248571  307.362366\n",
       "2012-05-22  31.000000  215.330002  24.450296   9.672857  300.700714\n",
       "2012-05-23  32.000000  217.279999  23.916271  10.272857  305.035034\n",
       "2012-05-24  33.029999  215.240005  23.883410  10.038571  302.132141"
      ]
     },
     "execution_count": 6,
     "metadata": {},
     "output_type": "execute_result"
    }
   ],
   "source": [
    "mydata.head()"
   ]
  },
  {
   "cell_type": "code",
   "execution_count": 7,
   "id": "2da2996b",
   "metadata": {},
   "outputs": [
    {
     "data": {
      "text/html": [
       "<div>\n",
       "<style scoped>\n",
       "    .dataframe tbody tr th:only-of-type {\n",
       "        vertical-align: middle;\n",
       "    }\n",
       "\n",
       "    .dataframe tbody tr th {\n",
       "        vertical-align: top;\n",
       "    }\n",
       "\n",
       "    .dataframe thead th {\n",
       "        text-align: right;\n",
       "    }\n",
       "</style>\n",
       "<table border=\"1\" class=\"dataframe\">\n",
       "  <thead>\n",
       "    <tr style=\"text-align: right;\">\n",
       "      <th></th>\n",
       "      <th>FB</th>\n",
       "      <th>AMZN</th>\n",
       "      <th>MSFT</th>\n",
       "      <th>NFLX</th>\n",
       "      <th>GOOGL</th>\n",
       "    </tr>\n",
       "    <tr>\n",
       "      <th>Date</th>\n",
       "      <th></th>\n",
       "      <th></th>\n",
       "      <th></th>\n",
       "      <th></th>\n",
       "      <th></th>\n",
       "    </tr>\n",
       "  </thead>\n",
       "  <tbody>\n",
       "    <tr>\n",
       "      <th>2021-09-20</th>\n",
       "      <td>355.700012</td>\n",
       "      <td>3355.729980</td>\n",
       "      <td>294.299988</td>\n",
       "      <td>575.429993</td>\n",
       "      <td>2774.389893</td>\n",
       "    </tr>\n",
       "    <tr>\n",
       "      <th>2021-09-21</th>\n",
       "      <td>357.480011</td>\n",
       "      <td>3343.629883</td>\n",
       "      <td>294.799988</td>\n",
       "      <td>573.140015</td>\n",
       "      <td>2780.659912</td>\n",
       "    </tr>\n",
       "    <tr>\n",
       "      <th>2021-09-22</th>\n",
       "      <td>343.209991</td>\n",
       "      <td>3380.050049</td>\n",
       "      <td>298.579987</td>\n",
       "      <td>590.650024</td>\n",
       "      <td>2805.669922</td>\n",
       "    </tr>\n",
       "    <tr>\n",
       "      <th>2021-09-23</th>\n",
       "      <td>345.959991</td>\n",
       "      <td>3416.000000</td>\n",
       "      <td>299.559998</td>\n",
       "      <td>593.260010</td>\n",
       "      <td>2824.320068</td>\n",
       "    </tr>\n",
       "    <tr>\n",
       "      <th>2021-09-24</th>\n",
       "      <td>352.959991</td>\n",
       "      <td>3425.520020</td>\n",
       "      <td>299.350006</td>\n",
       "      <td>592.390015</td>\n",
       "      <td>2844.300049</td>\n",
       "    </tr>\n",
       "  </tbody>\n",
       "</table>\n",
       "</div>"
      ],
      "text/plain": [
       "                    FB         AMZN        MSFT        NFLX        GOOGL\n",
       "Date                                                                    \n",
       "2021-09-20  355.700012  3355.729980  294.299988  575.429993  2774.389893\n",
       "2021-09-21  357.480011  3343.629883  294.799988  573.140015  2780.659912\n",
       "2021-09-22  343.209991  3380.050049  298.579987  590.650024  2805.669922\n",
       "2021-09-23  345.959991  3416.000000  299.559998  593.260010  2824.320068\n",
       "2021-09-24  352.959991  3425.520020  299.350006  592.390015  2844.300049"
      ]
     },
     "execution_count": 7,
     "metadata": {},
     "output_type": "execute_result"
    }
   ],
   "source": [
    "mydata.tail()"
   ]
  },
  {
   "cell_type": "code",
   "execution_count": null,
   "id": "28ba7a99",
   "metadata": {},
   "outputs": [],
   "source": []
  },
  {
   "cell_type": "code",
   "execution_count": null,
   "id": "5336822b",
   "metadata": {},
   "outputs": [],
   "source": []
  },
  {
   "cell_type": "code",
   "execution_count": null,
   "id": "6190a3d7",
   "metadata": {},
   "outputs": [],
   "source": []
  },
  {
   "cell_type": "code",
   "execution_count": null,
   "id": "1dbf7694",
   "metadata": {},
   "outputs": [],
   "source": []
  },
  {
   "cell_type": "code",
   "execution_count": null,
   "id": "af6b5d38",
   "metadata": {},
   "outputs": [],
   "source": []
  },
  {
   "cell_type": "code",
   "execution_count": null,
   "id": "cf764ced",
   "metadata": {},
   "outputs": [],
   "source": []
  },
  {
   "cell_type": "code",
   "execution_count": null,
   "id": "a474f845",
   "metadata": {},
   "outputs": [],
   "source": []
  }
 ],
 "metadata": {
  "kernelspec": {
   "display_name": "Python 3",
   "language": "python",
   "name": "python3"
  },
  "language_info": {
   "codemirror_mode": {
    "name": "ipython",
    "version": 3
   },
   "file_extension": ".py",
   "mimetype": "text/x-python",
   "name": "python",
   "nbconvert_exporter": "python",
   "pygments_lexer": "ipython3",
   "version": "3.8.8"
  }
 },
 "nbformat": 4,
 "nbformat_minor": 5
}
