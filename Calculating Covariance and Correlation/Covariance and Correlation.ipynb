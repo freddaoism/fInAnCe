{
 "cells": [
  {
   "cell_type": "code",
   "execution_count": 3,
   "id": "b5f4e407",
   "metadata": {},
   "outputs": [],
   "source": [
    "import numpy as np\n",
    "import pandas as pd\n",
    "from pandas_datareader import data as wb"
   ]
  },
  {
   "cell_type": "code",
   "execution_count": 14,
   "id": "06a4ca43",
   "metadata": {},
   "outputs": [],
   "source": [
    "sec_data = pd.read_csv('Walmart_FB_2014_2017.csv', index_col='Date')"
   ]
  },
  {
   "cell_type": "code",
   "execution_count": 15,
   "id": "bf9b18d3",
   "metadata": {},
   "outputs": [
    {
     "data": {
      "text/html": [
       "<div>\n",
       "<style scoped>\n",
       "    .dataframe tbody tr th:only-of-type {\n",
       "        vertical-align: middle;\n",
       "    }\n",
       "\n",
       "    .dataframe tbody tr th {\n",
       "        vertical-align: top;\n",
       "    }\n",
       "\n",
       "    .dataframe thead th {\n",
       "        text-align: right;\n",
       "    }\n",
       "</style>\n",
       "<table border=\"1\" class=\"dataframe\">\n",
       "  <thead>\n",
       "    <tr style=\"text-align: right;\">\n",
       "      <th></th>\n",
       "      <th>WMT</th>\n",
       "      <th>FB</th>\n",
       "    </tr>\n",
       "    <tr>\n",
       "      <th>Date</th>\n",
       "      <th></th>\n",
       "      <th></th>\n",
       "    </tr>\n",
       "  </thead>\n",
       "  <tbody>\n",
       "    <tr>\n",
       "      <th>2013-12-31</th>\n",
       "      <td>71.126411</td>\n",
       "      <td>54.650002</td>\n",
       "    </tr>\n",
       "    <tr>\n",
       "      <th>2014-01-02</th>\n",
       "      <td>71.325287</td>\n",
       "      <td>54.709999</td>\n",
       "    </tr>\n",
       "    <tr>\n",
       "      <th>2014-01-03</th>\n",
       "      <td>71.090279</td>\n",
       "      <td>54.560001</td>\n",
       "    </tr>\n",
       "    <tr>\n",
       "      <th>2014-01-06</th>\n",
       "      <td>70.692558</td>\n",
       "      <td>57.200001</td>\n",
       "    </tr>\n",
       "    <tr>\n",
       "      <th>2014-01-07</th>\n",
       "      <td>70.909485</td>\n",
       "      <td>57.919998</td>\n",
       "    </tr>\n",
       "  </tbody>\n",
       "</table>\n",
       "</div>"
      ],
      "text/plain": [
       "                  WMT         FB\n",
       "Date                            \n",
       "2013-12-31  71.126411  54.650002\n",
       "2014-01-02  71.325287  54.709999\n",
       "2014-01-03  71.090279  54.560001\n",
       "2014-01-06  70.692558  57.200001\n",
       "2014-01-07  70.909485  57.919998"
      ]
     },
     "execution_count": 15,
     "metadata": {},
     "output_type": "execute_result"
    }
   ],
   "source": [
    "sec_data.head()"
   ]
  },
  {
   "cell_type": "code",
   "execution_count": 16,
   "id": "4d4abb72",
   "metadata": {},
   "outputs": [
    {
     "data": {
      "text/html": [
       "<div>\n",
       "<style scoped>\n",
       "    .dataframe tbody tr th:only-of-type {\n",
       "        vertical-align: middle;\n",
       "    }\n",
       "\n",
       "    .dataframe tbody tr th {\n",
       "        vertical-align: top;\n",
       "    }\n",
       "\n",
       "    .dataframe thead th {\n",
       "        text-align: right;\n",
       "    }\n",
       "</style>\n",
       "<table border=\"1\" class=\"dataframe\">\n",
       "  <thead>\n",
       "    <tr style=\"text-align: right;\">\n",
       "      <th></th>\n",
       "      <th>WMT</th>\n",
       "      <th>FB</th>\n",
       "    </tr>\n",
       "    <tr>\n",
       "      <th>Date</th>\n",
       "      <th></th>\n",
       "      <th></th>\n",
       "    </tr>\n",
       "  </thead>\n",
       "  <tbody>\n",
       "    <tr>\n",
       "      <th>2013-12-31</th>\n",
       "      <td>NaN</td>\n",
       "      <td>NaN</td>\n",
       "    </tr>\n",
       "    <tr>\n",
       "      <th>2014-01-02</th>\n",
       "      <td>0.002792</td>\n",
       "      <td>0.001097</td>\n",
       "    </tr>\n",
       "    <tr>\n",
       "      <th>2014-01-03</th>\n",
       "      <td>-0.003300</td>\n",
       "      <td>-0.002745</td>\n",
       "    </tr>\n",
       "    <tr>\n",
       "      <th>2014-01-06</th>\n",
       "      <td>-0.005610</td>\n",
       "      <td>0.047253</td>\n",
       "    </tr>\n",
       "    <tr>\n",
       "      <th>2014-01-07</th>\n",
       "      <td>0.003064</td>\n",
       "      <td>0.012509</td>\n",
       "    </tr>\n",
       "    <tr>\n",
       "      <th>...</th>\n",
       "      <td>...</td>\n",
       "      <td>...</td>\n",
       "    </tr>\n",
       "    <tr>\n",
       "      <th>2017-04-03</th>\n",
       "      <td>-0.003474</td>\n",
       "      <td>0.001618</td>\n",
       "    </tr>\n",
       "    <tr>\n",
       "      <th>2017-04-04</th>\n",
       "      <td>0.002503</td>\n",
       "      <td>-0.003873</td>\n",
       "    </tr>\n",
       "    <tr>\n",
       "      <th>2017-04-05</th>\n",
       "      <td>-0.005012</td>\n",
       "      <td>0.000846</td>\n",
       "    </tr>\n",
       "    <tr>\n",
       "      <th>2017-04-06</th>\n",
       "      <td>-0.003075</td>\n",
       "      <td>-0.004805</td>\n",
       "    </tr>\n",
       "    <tr>\n",
       "      <th>2017-04-07</th>\n",
       "      <td>0.020371</td>\n",
       "      <td>-0.002766</td>\n",
       "    </tr>\n",
       "  </tbody>\n",
       "</table>\n",
       "<p>824 rows × 2 columns</p>\n",
       "</div>"
      ],
      "text/plain": [
       "                 WMT        FB\n",
       "Date                          \n",
       "2013-12-31       NaN       NaN\n",
       "2014-01-02  0.002792  0.001097\n",
       "2014-01-03 -0.003300 -0.002745\n",
       "2014-01-06 -0.005610  0.047253\n",
       "2014-01-07  0.003064  0.012509\n",
       "...              ...       ...\n",
       "2017-04-03 -0.003474  0.001618\n",
       "2017-04-04  0.002503 -0.003873\n",
       "2017-04-05 -0.005012  0.000846\n",
       "2017-04-06 -0.003075 -0.004805\n",
       "2017-04-07  0.020371 -0.002766\n",
       "\n",
       "[824 rows x 2 columns]"
      ]
     },
     "execution_count": 16,
     "metadata": {},
     "output_type": "execute_result"
    }
   ],
   "source": [
    "returns = np.log(sec_data / sec_data.shift(1))\n",
    "returns"
   ]
  },
  {
   "cell_type": "code",
   "execution_count": 17,
   "id": "3c9b7a4a",
   "metadata": {},
   "outputs": [
    {
     "data": {
      "text/plain": [
       "WMT    0.003551\n",
       "FB     0.287439\n",
       "dtype: float64"
      ]
     },
     "execution_count": 17,
     "metadata": {},
     "output_type": "execute_result"
    }
   ],
   "source": [
    "returns[['WMT', 'FB']].mean() * 250"
   ]
  },
  {
   "cell_type": "code",
   "execution_count": 18,
   "id": "0536562f",
   "metadata": {},
   "outputs": [
    {
     "data": {
      "text/plain": [
       "WMT    0.177607\n",
       "FB     0.287726\n",
       "dtype: float64"
      ]
     },
     "execution_count": 18,
     "metadata": {},
     "output_type": "execute_result"
    }
   ],
   "source": [
    "returns[['WMT', 'FB']].std() * 250 ** 0.5"
   ]
  },
  {
   "cell_type": "code",
   "execution_count": 19,
   "id": "d731f487",
   "metadata": {},
   "outputs": [
    {
     "data": {
      "text/html": [
       "<div>\n",
       "<style scoped>\n",
       "    .dataframe tbody tr th:only-of-type {\n",
       "        vertical-align: middle;\n",
       "    }\n",
       "\n",
       "    .dataframe tbody tr th {\n",
       "        vertical-align: top;\n",
       "    }\n",
       "\n",
       "    .dataframe thead th {\n",
       "        text-align: right;\n",
       "    }\n",
       "</style>\n",
       "<table border=\"1\" class=\"dataframe\">\n",
       "  <thead>\n",
       "    <tr style=\"text-align: right;\">\n",
       "      <th></th>\n",
       "      <th>WMT</th>\n",
       "      <th>FB</th>\n",
       "    </tr>\n",
       "  </thead>\n",
       "  <tbody>\n",
       "    <tr>\n",
       "      <th>WMT</th>\n",
       "      <td>0.000126</td>\n",
       "      <td>0.000035</td>\n",
       "    </tr>\n",
       "    <tr>\n",
       "      <th>FB</th>\n",
       "      <td>0.000035</td>\n",
       "      <td>0.000331</td>\n",
       "    </tr>\n",
       "  </tbody>\n",
       "</table>\n",
       "</div>"
      ],
      "text/plain": [
       "          WMT        FB\n",
       "WMT  0.000126  0.000035\n",
       "FB   0.000035  0.000331"
      ]
     },
     "execution_count": 19,
     "metadata": {},
     "output_type": "execute_result"
    }
   ],
   "source": [
    "cov_matrix = returns.cov()\n",
    "cov_matrix"
   ]
  },
  {
   "cell_type": "code",
   "execution_count": 20,
   "id": "50dd4b28",
   "metadata": {},
   "outputs": [
    {
     "data": {
      "text/html": [
       "<div>\n",
       "<style scoped>\n",
       "    .dataframe tbody tr th:only-of-type {\n",
       "        vertical-align: middle;\n",
       "    }\n",
       "\n",
       "    .dataframe tbody tr th {\n",
       "        vertical-align: top;\n",
       "    }\n",
       "\n",
       "    .dataframe thead th {\n",
       "        text-align: right;\n",
       "    }\n",
       "</style>\n",
       "<table border=\"1\" class=\"dataframe\">\n",
       "  <thead>\n",
       "    <tr style=\"text-align: right;\">\n",
       "      <th></th>\n",
       "      <th>WMT</th>\n",
       "      <th>FB</th>\n",
       "    </tr>\n",
       "  </thead>\n",
       "  <tbody>\n",
       "    <tr>\n",
       "      <th>WMT</th>\n",
       "      <td>0.031544</td>\n",
       "      <td>0.008777</td>\n",
       "    </tr>\n",
       "    <tr>\n",
       "      <th>FB</th>\n",
       "      <td>0.008777</td>\n",
       "      <td>0.082786</td>\n",
       "    </tr>\n",
       "  </tbody>\n",
       "</table>\n",
       "</div>"
      ],
      "text/plain": [
       "          WMT        FB\n",
       "WMT  0.031544  0.008777\n",
       "FB   0.008777  0.082786"
      ]
     },
     "execution_count": 20,
     "metadata": {},
     "output_type": "execute_result"
    }
   ],
   "source": [
    "cov_matrix_a = returns.cov() * 250\n",
    "cov_matrix_a"
   ]
  },
  {
   "cell_type": "code",
   "execution_count": 21,
   "id": "620a43af",
   "metadata": {},
   "outputs": [
    {
     "data": {
      "text/html": [
       "<div>\n",
       "<style scoped>\n",
       "    .dataframe tbody tr th:only-of-type {\n",
       "        vertical-align: middle;\n",
       "    }\n",
       "\n",
       "    .dataframe tbody tr th {\n",
       "        vertical-align: top;\n",
       "    }\n",
       "\n",
       "    .dataframe thead th {\n",
       "        text-align: right;\n",
       "    }\n",
       "</style>\n",
       "<table border=\"1\" class=\"dataframe\">\n",
       "  <thead>\n",
       "    <tr style=\"text-align: right;\">\n",
       "      <th></th>\n",
       "      <th>WMT</th>\n",
       "      <th>FB</th>\n",
       "    </tr>\n",
       "  </thead>\n",
       "  <tbody>\n",
       "    <tr>\n",
       "      <th>WMT</th>\n",
       "      <td>1.000000</td>\n",
       "      <td>0.171746</td>\n",
       "    </tr>\n",
       "    <tr>\n",
       "      <th>FB</th>\n",
       "      <td>0.171746</td>\n",
       "      <td>1.000000</td>\n",
       "    </tr>\n",
       "  </tbody>\n",
       "</table>\n",
       "</div>"
      ],
      "text/plain": [
       "          WMT        FB\n",
       "WMT  1.000000  0.171746\n",
       "FB   0.171746  1.000000"
      ]
     },
     "execution_count": 21,
     "metadata": {},
     "output_type": "execute_result"
    }
   ],
   "source": [
    "corr_matrix = returns.corr()\n",
    "corr_matrix"
   ]
  },
  {
   "cell_type": "code",
   "execution_count": null,
   "id": "250f88b4",
   "metadata": {},
   "outputs": [],
   "source": []
  }
 ],
 "metadata": {
  "kernelspec": {
   "display_name": "Python 3",
   "language": "python",
   "name": "python3"
  },
  "language_info": {
   "codemirror_mode": {
    "name": "ipython",
    "version": 3
   },
   "file_extension": ".py",
   "mimetype": "text/x-python",
   "name": "python",
   "nbconvert_exporter": "python",
   "pygments_lexer": "ipython3",
   "version": "3.8.8"
  }
 },
 "nbformat": 4,
 "nbformat_minor": 5
}
