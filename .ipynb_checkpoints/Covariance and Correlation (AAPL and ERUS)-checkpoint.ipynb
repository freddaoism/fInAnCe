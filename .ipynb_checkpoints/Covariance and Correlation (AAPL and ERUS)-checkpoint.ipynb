{
 "cells": [
  {
   "cell_type": "code",
   "execution_count": 2,
   "id": "f28df57a",
   "metadata": {},
   "outputs": [],
   "source": [
    "import numpy as np\n",
    "import pandas as pd\n",
    "from pandas_datareader import data as wb"
   ]
  },
  {
   "cell_type": "code",
   "execution_count": 3,
   "id": "107e9ed6",
   "metadata": {},
   "outputs": [],
   "source": [
    "tickers = ['AAPL', 'ERUS']\n",
    "sec_data = pd.DataFrame()\n",
    "for t in tickers:\n",
    "    sec_data[t] = wb.DataReader(t, data_source='yahoo', start='2014-1-1')['Adj Close']"
   ]
  },
  {
   "cell_type": "code",
   "execution_count": 4,
   "id": "a2c0df2e",
   "metadata": {},
   "outputs": [
    {
     "data": {
      "text/html": [
       "<div>\n",
       "<style scoped>\n",
       "    .dataframe tbody tr th:only-of-type {\n",
       "        vertical-align: middle;\n",
       "    }\n",
       "\n",
       "    .dataframe tbody tr th {\n",
       "        vertical-align: top;\n",
       "    }\n",
       "\n",
       "    .dataframe thead th {\n",
       "        text-align: right;\n",
       "    }\n",
       "</style>\n",
       "<table border=\"1\" class=\"dataframe\">\n",
       "  <thead>\n",
       "    <tr style=\"text-align: right;\">\n",
       "      <th></th>\n",
       "      <th>AAPL</th>\n",
       "      <th>ERUS</th>\n",
       "    </tr>\n",
       "    <tr>\n",
       "      <th>Date</th>\n",
       "      <th></th>\n",
       "      <th></th>\n",
       "    </tr>\n",
       "  </thead>\n",
       "  <tbody>\n",
       "    <tr>\n",
       "      <th>2014-01-02</th>\n",
       "      <td>17.542171</td>\n",
       "      <td>30.153418</td>\n",
       "    </tr>\n",
       "    <tr>\n",
       "      <th>2014-01-03</th>\n",
       "      <td>17.156845</td>\n",
       "      <td>29.982340</td>\n",
       "    </tr>\n",
       "    <tr>\n",
       "      <th>2014-01-06</th>\n",
       "      <td>17.250404</td>\n",
       "      <td>29.397804</td>\n",
       "    </tr>\n",
       "    <tr>\n",
       "      <th>2014-01-07</th>\n",
       "      <td>17.127031</td>\n",
       "      <td>29.526114</td>\n",
       "    </tr>\n",
       "    <tr>\n",
       "      <th>2014-01-08</th>\n",
       "      <td>17.235489</td>\n",
       "      <td>29.440571</td>\n",
       "    </tr>\n",
       "  </tbody>\n",
       "</table>\n",
       "</div>"
      ],
      "text/plain": [
       "                 AAPL       ERUS\n",
       "Date                            \n",
       "2014-01-02  17.542171  30.153418\n",
       "2014-01-03  17.156845  29.982340\n",
       "2014-01-06  17.250404  29.397804\n",
       "2014-01-07  17.127031  29.526114\n",
       "2014-01-08  17.235489  29.440571"
      ]
     },
     "execution_count": 4,
     "metadata": {},
     "output_type": "execute_result"
    }
   ],
   "source": [
    "sec_data.head()"
   ]
  },
  {
   "cell_type": "code",
   "execution_count": 5,
   "id": "ba36141f",
   "metadata": {},
   "outputs": [
    {
     "data": {
      "text/html": [
       "<div>\n",
       "<style scoped>\n",
       "    .dataframe tbody tr th:only-of-type {\n",
       "        vertical-align: middle;\n",
       "    }\n",
       "\n",
       "    .dataframe tbody tr th {\n",
       "        vertical-align: top;\n",
       "    }\n",
       "\n",
       "    .dataframe thead th {\n",
       "        text-align: right;\n",
       "    }\n",
       "</style>\n",
       "<table border=\"1\" class=\"dataframe\">\n",
       "  <thead>\n",
       "    <tr style=\"text-align: right;\">\n",
       "      <th></th>\n",
       "      <th>AAPL</th>\n",
       "      <th>ERUS</th>\n",
       "    </tr>\n",
       "    <tr>\n",
       "      <th>Date</th>\n",
       "      <th></th>\n",
       "      <th></th>\n",
       "    </tr>\n",
       "  </thead>\n",
       "  <tbody>\n",
       "    <tr>\n",
       "      <th>2014-01-02</th>\n",
       "      <td>NaN</td>\n",
       "      <td>NaN</td>\n",
       "    </tr>\n",
       "    <tr>\n",
       "      <th>2014-01-03</th>\n",
       "      <td>-0.022211</td>\n",
       "      <td>-0.005690</td>\n",
       "    </tr>\n",
       "    <tr>\n",
       "      <th>2014-01-06</th>\n",
       "      <td>0.005438</td>\n",
       "      <td>-0.019689</td>\n",
       "    </tr>\n",
       "    <tr>\n",
       "      <th>2014-01-07</th>\n",
       "      <td>-0.007178</td>\n",
       "      <td>0.004355</td>\n",
       "    </tr>\n",
       "    <tr>\n",
       "      <th>2014-01-08</th>\n",
       "      <td>0.006313</td>\n",
       "      <td>-0.002901</td>\n",
       "    </tr>\n",
       "    <tr>\n",
       "      <th>...</th>\n",
       "      <td>...</td>\n",
       "      <td>...</td>\n",
       "    </tr>\n",
       "    <tr>\n",
       "      <th>2021-10-11</th>\n",
       "      <td>-0.000630</td>\n",
       "      <td>0.009647</td>\n",
       "    </tr>\n",
       "    <tr>\n",
       "      <th>2021-10-12</th>\n",
       "      <td>-0.009145</td>\n",
       "      <td>-0.003336</td>\n",
       "    </tr>\n",
       "    <tr>\n",
       "      <th>2021-10-13</th>\n",
       "      <td>-0.004249</td>\n",
       "      <td>-0.002756</td>\n",
       "    </tr>\n",
       "    <tr>\n",
       "      <th>2021-10-14</th>\n",
       "      <td>0.020024</td>\n",
       "      <td>0.009613</td>\n",
       "    </tr>\n",
       "    <tr>\n",
       "      <th>2021-10-15</th>\n",
       "      <td>0.007484</td>\n",
       "      <td>0.008360</td>\n",
       "    </tr>\n",
       "  </tbody>\n",
       "</table>\n",
       "<p>1962 rows × 2 columns</p>\n",
       "</div>"
      ],
      "text/plain": [
       "                AAPL      ERUS\n",
       "Date                          \n",
       "2014-01-02       NaN       NaN\n",
       "2014-01-03 -0.022211 -0.005690\n",
       "2014-01-06  0.005438 -0.019689\n",
       "2014-01-07 -0.007178  0.004355\n",
       "2014-01-08  0.006313 -0.002901\n",
       "...              ...       ...\n",
       "2021-10-11 -0.000630  0.009647\n",
       "2021-10-12 -0.009145 -0.003336\n",
       "2021-10-13 -0.004249 -0.002756\n",
       "2021-10-14  0.020024  0.009613\n",
       "2021-10-15  0.007484  0.008360\n",
       "\n",
       "[1962 rows x 2 columns]"
      ]
     },
     "execution_count": 5,
     "metadata": {},
     "output_type": "execute_result"
    }
   ],
   "source": [
    "returns = np.log(sec_data / sec_data.shift(1))\n",
    "returns"
   ]
  },
  {
   "cell_type": "code",
   "execution_count": 6,
   "id": "f012423e",
   "metadata": {},
   "outputs": [
    {
     "data": {
      "text/plain": [
       "AAPL    0.269126\n",
       "ERUS    0.068612\n",
       "dtype: float64"
      ]
     },
     "execution_count": 6,
     "metadata": {},
     "output_type": "execute_result"
    }
   ],
   "source": [
    "#Annual Return\n",
    "returns[['AAPL', 'ERUS']].mean() * 250"
   ]
  },
  {
   "cell_type": "code",
   "execution_count": 7,
   "id": "34bbc2b3",
   "metadata": {},
   "outputs": [
    {
     "data": {
      "text/plain": [
       "AAPL    0.281931\n",
       "ERUS    0.336931\n",
       "dtype: float64"
      ]
     },
     "execution_count": 7,
     "metadata": {},
     "output_type": "execute_result"
    }
   ],
   "source": [
    "#Annual Standard Deviation\n",
    "returns[['AAPL', 'ERUS']].std() * 250 ** 0.5"
   ]
  },
  {
   "cell_type": "code",
   "execution_count": 8,
   "id": "71224ddb",
   "metadata": {},
   "outputs": [
    {
     "data": {
      "text/html": [
       "<div>\n",
       "<style scoped>\n",
       "    .dataframe tbody tr th:only-of-type {\n",
       "        vertical-align: middle;\n",
       "    }\n",
       "\n",
       "    .dataframe tbody tr th {\n",
       "        vertical-align: top;\n",
       "    }\n",
       "\n",
       "    .dataframe thead th {\n",
       "        text-align: right;\n",
       "    }\n",
       "</style>\n",
       "<table border=\"1\" class=\"dataframe\">\n",
       "  <thead>\n",
       "    <tr style=\"text-align: right;\">\n",
       "      <th></th>\n",
       "      <th>AAPL</th>\n",
       "      <th>ERUS</th>\n",
       "    </tr>\n",
       "  </thead>\n",
       "  <tbody>\n",
       "    <tr>\n",
       "      <th>AAPL</th>\n",
       "      <td>0.000318</td>\n",
       "      <td>0.000144</td>\n",
       "    </tr>\n",
       "    <tr>\n",
       "      <th>ERUS</th>\n",
       "      <td>0.000144</td>\n",
       "      <td>0.000454</td>\n",
       "    </tr>\n",
       "  </tbody>\n",
       "</table>\n",
       "</div>"
      ],
      "text/plain": [
       "          AAPL      ERUS\n",
       "AAPL  0.000318  0.000144\n",
       "ERUS  0.000144  0.000454"
      ]
     },
     "execution_count": 8,
     "metadata": {},
     "output_type": "execute_result"
    }
   ],
   "source": [
    "# Positive covariance dictates a strength in directional relationship\n",
    "# Negative covariance dictates a strength in an inverse directional relationship\n",
    "cov_matrix = returns.cov()\n",
    "cov_matrix"
   ]
  },
  {
   "cell_type": "code",
   "execution_count": 9,
   "id": "5d139d4f",
   "metadata": {},
   "outputs": [
    {
     "data": {
      "text/html": [
       "<div>\n",
       "<style scoped>\n",
       "    .dataframe tbody tr th:only-of-type {\n",
       "        vertical-align: middle;\n",
       "    }\n",
       "\n",
       "    .dataframe tbody tr th {\n",
       "        vertical-align: top;\n",
       "    }\n",
       "\n",
       "    .dataframe thead th {\n",
       "        text-align: right;\n",
       "    }\n",
       "</style>\n",
       "<table border=\"1\" class=\"dataframe\">\n",
       "  <thead>\n",
       "    <tr style=\"text-align: right;\">\n",
       "      <th></th>\n",
       "      <th>AAPL</th>\n",
       "      <th>ERUS</th>\n",
       "    </tr>\n",
       "  </thead>\n",
       "  <tbody>\n",
       "    <tr>\n",
       "      <th>AAPL</th>\n",
       "      <td>0.079485</td>\n",
       "      <td>0.036018</td>\n",
       "    </tr>\n",
       "    <tr>\n",
       "      <th>ERUS</th>\n",
       "      <td>0.036018</td>\n",
       "      <td>0.113523</td>\n",
       "    </tr>\n",
       "  </tbody>\n",
       "</table>\n",
       "</div>"
      ],
      "text/plain": [
       "          AAPL      ERUS\n",
       "AAPL  0.079485  0.036018\n",
       "ERUS  0.036018  0.113523"
      ]
     },
     "execution_count": 9,
     "metadata": {},
     "output_type": "execute_result"
    }
   ],
   "source": [
    "# Annual Covariance Matrix\n",
    "cov_matrix_a = returns.cov() * 250\n",
    "cov_matrix_a"
   ]
  },
  {
   "cell_type": "code",
   "execution_count": 10,
   "id": "140903dd",
   "metadata": {},
   "outputs": [
    {
     "data": {
      "text/html": [
       "<div>\n",
       "<style scoped>\n",
       "    .dataframe tbody tr th:only-of-type {\n",
       "        vertical-align: middle;\n",
       "    }\n",
       "\n",
       "    .dataframe tbody tr th {\n",
       "        vertical-align: top;\n",
       "    }\n",
       "\n",
       "    .dataframe thead th {\n",
       "        text-align: right;\n",
       "    }\n",
       "</style>\n",
       "<table border=\"1\" class=\"dataframe\">\n",
       "  <thead>\n",
       "    <tr style=\"text-align: right;\">\n",
       "      <th></th>\n",
       "      <th>AAPL</th>\n",
       "      <th>ERUS</th>\n",
       "    </tr>\n",
       "  </thead>\n",
       "  <tbody>\n",
       "    <tr>\n",
       "      <th>AAPL</th>\n",
       "      <td>1.000000</td>\n",
       "      <td>0.379177</td>\n",
       "    </tr>\n",
       "    <tr>\n",
       "      <th>ERUS</th>\n",
       "      <td>0.379177</td>\n",
       "      <td>1.000000</td>\n",
       "    </tr>\n",
       "  </tbody>\n",
       "</table>\n",
       "</div>"
      ],
      "text/plain": [
       "          AAPL      ERUS\n",
       "AAPL  1.000000  0.379177\n",
       "ERUS  0.379177  1.000000"
      ]
     },
     "execution_count": 10,
     "metadata": {},
     "output_type": "execute_result"
    }
   ],
   "source": [
    "#Correlation Matrix\n",
    "corr_matrix = returns.corr()\n",
    "corr_matrix"
   ]
  },
  {
   "cell_type": "code",
   "execution_count": 11,
   "id": "d0a0325d",
   "metadata": {},
   "outputs": [],
   "source": [
    "#Hypothetical portfolio weight\n",
    "weights = np.array([0.5, 0.5])"
   ]
  },
  {
   "cell_type": "code",
   "execution_count": 12,
   "id": "7b791e3f",
   "metadata": {},
   "outputs": [
    {
     "data": {
      "text/plain": [
       "0.5"
      ]
     },
     "execution_count": 12,
     "metadata": {},
     "output_type": "execute_result"
    }
   ],
   "source": [
    "weights[0]"
   ]
  },
  {
   "cell_type": "code",
   "execution_count": 13,
   "id": "543403be",
   "metadata": {},
   "outputs": [
    {
     "data": {
      "text/plain": [
       "0.5"
      ]
     },
     "execution_count": 13,
     "metadata": {},
     "output_type": "execute_result"
    }
   ],
   "source": [
    "weights[1]"
   ]
  },
  {
   "cell_type": "code",
   "execution_count": 14,
   "id": "95daca47",
   "metadata": {},
   "outputs": [
    {
     "data": {
      "text/plain": [
       "0.06626110841947895"
      ]
     },
     "execution_count": 14,
     "metadata": {},
     "output_type": "execute_result"
    }
   ],
   "source": [
    "#Portfolio variance\n",
    "pfolio_var = np.dot(weights.T, np.dot(returns.cov() * 250, weights))\n",
    "pfolio_var"
   ]
  },
  {
   "cell_type": "code",
   "execution_count": 15,
   "id": "6fd0f7de",
   "metadata": {},
   "outputs": [
    {
     "data": {
      "text/plain": [
       "0.25741233152178034"
      ]
     },
     "execution_count": 15,
     "metadata": {},
     "output_type": "execute_result"
    }
   ],
   "source": [
    "#Portfolio volatility percentage\n",
    "pfolio_vol = (np.dot(weights.T, np.dot(returns.cov() * 250, weights))) ** 0.5\n",
    "pfolio_vol"
   ]
  },
  {
   "cell_type": "code",
   "execution_count": 16,
   "id": "b1603b85",
   "metadata": {},
   "outputs": [
    {
     "data": {
      "text/plain": [
       "AAPL    0.079485\n",
       "dtype: float64"
      ]
     },
     "execution_count": 16,
     "metadata": {},
     "output_type": "execute_result"
    }
   ],
   "source": [
    "#AAPL variance\n",
    "AAPL_var_a = returns[['AAPL']].var() * 250\n",
    "AAPL_var_a"
   ]
  },
  {
   "cell_type": "code",
   "execution_count": 25,
   "id": "2e64ce25",
   "metadata": {},
   "outputs": [
    {
     "data": {
      "text/plain": [
       "0.07948489007955717"
      ]
     },
     "execution_count": 25,
     "metadata": {},
     "output_type": "execute_result"
    }
   ],
   "source": [
    "#Bug Fix\n",
    "AAPL_var_a = returns['AAPL'].var() * 250\n",
    "AAPL_var_a"
   ]
  },
  {
   "cell_type": "code",
   "execution_count": 17,
   "id": "ffb95fdc",
   "metadata": {},
   "outputs": [
    {
     "data": {
      "text/plain": [
       "ERUS    0.113523\n",
       "dtype: float64"
      ]
     },
     "execution_count": 17,
     "metadata": {},
     "output_type": "execute_result"
    }
   ],
   "source": [
    "#ERUS variance\n",
    "ERUS_var_a = returns[['ERUS']].var() * 250\n",
    "ERUS_var_a"
   ]
  },
  {
   "cell_type": "code",
   "execution_count": 24,
   "id": "2ddb9243",
   "metadata": {},
   "outputs": [
    {
     "data": {
      "text/plain": [
       "0.11352258056608448"
      ]
     },
     "execution_count": 24,
     "metadata": {},
     "output_type": "execute_result"
    }
   ],
   "source": [
    "ERUS_var_a = returns['ERUS'].var() * 250\n",
    "ERUS_var_a"
   ]
  },
  {
   "cell_type": "code",
   "execution_count": 26,
   "id": "2c82f094",
   "metadata": {},
   "outputs": [
    {
     "data": {
      "text/plain": [
       "0.018009240758068534"
      ]
     },
     "execution_count": 26,
     "metadata": {},
     "output_type": "execute_result"
    }
   ],
   "source": [
    "#Diversifiable Risk with issue\n",
    "dr = pfolio_var - (weights[0] ** 2 * ERUS_var_a) - (weights[1] ** 2 * AAPL_var_a)\n",
    "dr"
   ]
  },
  {
   "cell_type": "code",
   "execution_count": 27,
   "id": "26bfe0d8",
   "metadata": {},
   "outputs": [
    {
     "data": {
      "text/plain": [
       "0.048251867661410416"
      ]
     },
     "execution_count": 27,
     "metadata": {},
     "output_type": "execute_result"
    }
   ],
   "source": [
    "#Non-Diversifiable Risk\n",
    "n_dr_1 = pfolio_var - dr\n",
    "n_dr_1"
   ]
  },
  {
   "cell_type": "code",
   "execution_count": 28,
   "id": "dda31e29",
   "metadata": {},
   "outputs": [
    {
     "data": {
      "text/plain": [
       "0.048251867661410416"
      ]
     },
     "execution_count": 28,
     "metadata": {},
     "output_type": "execute_result"
    }
   ],
   "source": [
    "n_dr_2 = (weights[0] ** 2 * AAPL_var_a)+ (weights[1]** 2 * ERUS_var_a)\n",
    "n_dr_2"
   ]
  },
  {
   "cell_type": "code",
   "execution_count": 29,
   "id": "0bc449f4",
   "metadata": {},
   "outputs": [
    {
     "data": {
      "text/plain": [
       "True"
      ]
     },
     "execution_count": 29,
     "metadata": {},
     "output_type": "execute_result"
    }
   ],
   "source": [
    "n_dr_1 == n_dr_2"
   ]
  },
  {
   "cell_type": "code",
   "execution_count": null,
   "id": "7e459568",
   "metadata": {},
   "outputs": [],
   "source": []
  }
 ],
 "metadata": {
  "kernelspec": {
   "display_name": "Python 3",
   "language": "python",
   "name": "python3"
  },
  "language_info": {
   "codemirror_mode": {
    "name": "ipython",
    "version": 3
   },
   "file_extension": ".py",
   "mimetype": "text/x-python",
   "name": "python",
   "nbconvert_exporter": "python",
   "pygments_lexer": "ipython3",
   "version": "3.8.8"
  }
 },
 "nbformat": 4,
 "nbformat_minor": 5
}
