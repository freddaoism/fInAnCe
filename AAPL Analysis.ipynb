{
 "cells": [
  {
   "cell_type": "code",
   "execution_count": 6,
   "id": "db54a310",
   "metadata": {},
   "outputs": [],
   "source": [
    "import numpy as np\n",
    "from pandas_datareader import data as wb\n",
    "import matplotlib.pyplot as plt\n",
    "import yahoo_fin.stock_info as si"
   ]
  },
  {
   "cell_type": "code",
   "execution_count": 17,
   "id": "05355fb5",
   "metadata": {},
   "outputs": [],
   "source": [
    "AAPL = wb.DataReader('AAPL', data_source='yahoo', start='1995-1-1')"
   ]
  },
  {
   "cell_type": "code",
   "execution_count": 18,
   "id": "dec16c19",
   "metadata": {},
   "outputs": [
    {
     "data": {
      "text/html": [
       "<div>\n",
       "<style scoped>\n",
       "    .dataframe tbody tr th:only-of-type {\n",
       "        vertical-align: middle;\n",
       "    }\n",
       "\n",
       "    .dataframe tbody tr th {\n",
       "        vertical-align: top;\n",
       "    }\n",
       "\n",
       "    .dataframe thead th {\n",
       "        text-align: right;\n",
       "    }\n",
       "</style>\n",
       "<table border=\"1\" class=\"dataframe\">\n",
       "  <thead>\n",
       "    <tr style=\"text-align: right;\">\n",
       "      <th></th>\n",
       "      <th>High</th>\n",
       "      <th>Low</th>\n",
       "      <th>Open</th>\n",
       "      <th>Close</th>\n",
       "      <th>Volume</th>\n",
       "      <th>Adj Close</th>\n",
       "    </tr>\n",
       "    <tr>\n",
       "      <th>Date</th>\n",
       "      <th></th>\n",
       "      <th></th>\n",
       "      <th></th>\n",
       "      <th></th>\n",
       "      <th></th>\n",
       "      <th></th>\n",
       "    </tr>\n",
       "  </thead>\n",
       "  <tbody>\n",
       "    <tr>\n",
       "      <th>1995-01-03</th>\n",
       "      <td>0.347098</td>\n",
       "      <td>0.338170</td>\n",
       "      <td>0.347098</td>\n",
       "      <td>0.342634</td>\n",
       "      <td>1.038688e+08</td>\n",
       "      <td>0.290871</td>\n",
       "    </tr>\n",
       "    <tr>\n",
       "      <th>1995-01-04</th>\n",
       "      <td>0.353795</td>\n",
       "      <td>0.344866</td>\n",
       "      <td>0.344866</td>\n",
       "      <td>0.351563</td>\n",
       "      <td>1.586816e+08</td>\n",
       "      <td>0.298451</td>\n",
       "    </tr>\n",
       "    <tr>\n",
       "      <th>1995-01-05</th>\n",
       "      <td>0.351563</td>\n",
       "      <td>0.345982</td>\n",
       "      <td>0.350446</td>\n",
       "      <td>0.347098</td>\n",
       "      <td>7.364000e+07</td>\n",
       "      <td>0.294660</td>\n",
       "    </tr>\n",
       "    <tr>\n",
       "      <th>1995-01-06</th>\n",
       "      <td>0.385045</td>\n",
       "      <td>0.367188</td>\n",
       "      <td>0.371652</td>\n",
       "      <td>0.375000</td>\n",
       "      <td>1.076622e+09</td>\n",
       "      <td>0.318347</td>\n",
       "    </tr>\n",
       "    <tr>\n",
       "      <th>1995-01-09</th>\n",
       "      <td>0.373884</td>\n",
       "      <td>0.366071</td>\n",
       "      <td>0.371652</td>\n",
       "      <td>0.367885</td>\n",
       "      <td>2.740864e+08</td>\n",
       "      <td>0.312307</td>\n",
       "    </tr>\n",
       "  </tbody>\n",
       "</table>\n",
       "</div>"
      ],
      "text/plain": [
       "                High       Low      Open     Close        Volume  Adj Close\n",
       "Date                                                                       \n",
       "1995-01-03  0.347098  0.338170  0.347098  0.342634  1.038688e+08   0.290871\n",
       "1995-01-04  0.353795  0.344866  0.344866  0.351563  1.586816e+08   0.298451\n",
       "1995-01-05  0.351563  0.345982  0.350446  0.347098  7.364000e+07   0.294660\n",
       "1995-01-06  0.385045  0.367188  0.371652  0.375000  1.076622e+09   0.318347\n",
       "1995-01-09  0.373884  0.366071  0.371652  0.367885  2.740864e+08   0.312307"
      ]
     },
     "execution_count": 18,
     "metadata": {},
     "output_type": "execute_result"
    }
   ],
   "source": [
    "#First Five\n",
    "AAPL.head()"
   ]
  },
  {
   "cell_type": "code",
   "execution_count": 19,
   "id": "bb1f7e03",
   "metadata": {},
   "outputs": [
    {
     "data": {
      "text/html": [
       "<div>\n",
       "<style scoped>\n",
       "    .dataframe tbody tr th:only-of-type {\n",
       "        vertical-align: middle;\n",
       "    }\n",
       "\n",
       "    .dataframe tbody tr th {\n",
       "        vertical-align: top;\n",
       "    }\n",
       "\n",
       "    .dataframe thead th {\n",
       "        text-align: right;\n",
       "    }\n",
       "</style>\n",
       "<table border=\"1\" class=\"dataframe\">\n",
       "  <thead>\n",
       "    <tr style=\"text-align: right;\">\n",
       "      <th></th>\n",
       "      <th>High</th>\n",
       "      <th>Low</th>\n",
       "      <th>Open</th>\n",
       "      <th>Close</th>\n",
       "      <th>Volume</th>\n",
       "      <th>Adj Close</th>\n",
       "    </tr>\n",
       "    <tr>\n",
       "      <th>Date</th>\n",
       "      <th></th>\n",
       "      <th></th>\n",
       "      <th></th>\n",
       "      <th></th>\n",
       "      <th></th>\n",
       "      <th></th>\n",
       "    </tr>\n",
       "  </thead>\n",
       "  <tbody>\n",
       "    <tr>\n",
       "      <th>2021-09-20</th>\n",
       "      <td>144.839996</td>\n",
       "      <td>141.270004</td>\n",
       "      <td>143.800003</td>\n",
       "      <td>142.940002</td>\n",
       "      <td>123478900.0</td>\n",
       "      <td>142.940002</td>\n",
       "    </tr>\n",
       "    <tr>\n",
       "      <th>2021-09-21</th>\n",
       "      <td>144.600006</td>\n",
       "      <td>142.779999</td>\n",
       "      <td>143.929993</td>\n",
       "      <td>143.429993</td>\n",
       "      <td>75834000.0</td>\n",
       "      <td>143.429993</td>\n",
       "    </tr>\n",
       "    <tr>\n",
       "      <th>2021-09-22</th>\n",
       "      <td>146.429993</td>\n",
       "      <td>143.699997</td>\n",
       "      <td>144.449997</td>\n",
       "      <td>145.850006</td>\n",
       "      <td>76404300.0</td>\n",
       "      <td>145.850006</td>\n",
       "    </tr>\n",
       "    <tr>\n",
       "      <th>2021-09-23</th>\n",
       "      <td>147.080002</td>\n",
       "      <td>145.639999</td>\n",
       "      <td>146.649994</td>\n",
       "      <td>146.830002</td>\n",
       "      <td>64838200.0</td>\n",
       "      <td>146.830002</td>\n",
       "    </tr>\n",
       "    <tr>\n",
       "      <th>2021-09-24</th>\n",
       "      <td>147.470001</td>\n",
       "      <td>145.559998</td>\n",
       "      <td>145.660004</td>\n",
       "      <td>146.919998</td>\n",
       "      <td>53434200.0</td>\n",
       "      <td>146.919998</td>\n",
       "    </tr>\n",
       "  </tbody>\n",
       "</table>\n",
       "</div>"
      ],
      "text/plain": [
       "                  High         Low        Open       Close       Volume  \\\n",
       "Date                                                                      \n",
       "2021-09-20  144.839996  141.270004  143.800003  142.940002  123478900.0   \n",
       "2021-09-21  144.600006  142.779999  143.929993  143.429993   75834000.0   \n",
       "2021-09-22  146.429993  143.699997  144.449997  145.850006   76404300.0   \n",
       "2021-09-23  147.080002  145.639999  146.649994  146.830002   64838200.0   \n",
       "2021-09-24  147.470001  145.559998  145.660004  146.919998   53434200.0   \n",
       "\n",
       "             Adj Close  \n",
       "Date                    \n",
       "2021-09-20  142.940002  \n",
       "2021-09-21  143.429993  \n",
       "2021-09-22  145.850006  \n",
       "2021-09-23  146.830002  \n",
       "2021-09-24  146.919998  "
      ]
     },
     "execution_count": 19,
     "metadata": {},
     "output_type": "execute_result"
    }
   ],
   "source": [
    "#Last Five\n",
    "AAPL.tail()"
   ]
  },
  {
   "cell_type": "code",
   "execution_count": 20,
   "id": "2da2996b",
   "metadata": {},
   "outputs": [
    {
     "name": "stdout",
     "output_type": "stream",
     "text": [
      "Date\n",
      "1995-01-03         NaN\n",
      "1995-01-04    0.026060\n",
      "1995-01-05   -0.012700\n",
      "1995-01-06    0.080386\n",
      "1995-01-09   -0.018973\n",
      "                ...   \n",
      "2021-09-20   -0.021361\n",
      "2021-09-21    0.003428\n",
      "2021-09-22    0.016872\n",
      "2021-09-23    0.006719\n",
      "2021-09-24    0.000613\n",
      "Name: simple_return, Length: 6731, dtype: float64\n"
     ]
    }
   ],
   "source": [
    "#Simple Return Calculation\n",
    "AAPL['simple_return'] = (AAPL['Adj Close'] / AAPL['Adj Close'].shift(1)) - 1\n",
    "print (AAPL['simple_return'])"
   ]
  },
  {
   "cell_type": "code",
   "execution_count": 30,
   "id": "28ba7a99",
   "metadata": {},
   "outputs": [
    {
     "data": {
      "image/png": "[encoded data removed]",
      "text/plain": [
       "<Figure size 1440x360 with 1 Axes>"
      ]
     },
     "metadata": {
      "needs_background": "light"
     },
     "output_type": "display_data"
    }
   ],
   "source": [
    "#Simple Return Plot\n",
    "AAPL['simple_return'].plot(figsize=(20,5))\n",
    "plt.show()"
   ]
  },
  {
   "cell_type": "code",
   "execution_count": 22,
   "id": "5336822b",
   "metadata": {},
   "outputs": [
    {
     "data": {
      "text/plain": [
       "0.0013129534871270888"
      ]
     },
     "execution_count": 22,
     "metadata": {},
     "output_type": "execute_result"
    }
   ],
   "source": [
    "#Average return per day\n",
    "avg_returns_d = AAPL['simple_return'].mean()\n",
    "avg_returns_d"
   ]
  },
  {
   "cell_type": "code",
   "execution_count": 23,
   "id": "6190a3d7",
   "metadata": {},
   "outputs": [
    {
     "data": {
      "text/plain": [
       "0.32823837178177223"
      ]
     },
     "execution_count": 23,
     "metadata": {},
     "output_type": "execute_result"
    }
   ],
   "source": [
    "#Average return annually \n",
    "avg_returns_a = AAPL['simple_return'].mean() * 250\n",
    "avg_returns_a "
   ]
  },
  {
   "cell_type": "code",
   "execution_count": 47,
   "id": "1dbf7694",
   "metadata": {},
   "outputs": [
    {
     "name": "stdout",
     "output_type": "stream",
     "text": [
      "32.824\n"
     ]
    }
   ],
   "source": [
    "#Average annual return in percentage points\n",
    "print (round(avg_returns_a, 5) * 100) "
   ]
  },
  {
   "cell_type": "code",
   "execution_count": 66,
   "id": "dfcbe192",
   "metadata": {},
   "outputs": [],
   "source": [
    "#log returns are for single stocks"
   ]
  },
  {
   "cell_type": "code",
   "execution_count": 67,
   "id": "1d5c77cd",
   "metadata": {},
   "outputs": [
    {
     "name": "stdout",
     "output_type": "stream",
     "text": [
      "Date\n",
      "1995-01-03         NaN\n",
      "1995-01-04    0.025726\n",
      "1995-01-05   -0.012782\n",
      "1995-01-06    0.077319\n",
      "1995-01-09   -0.019155\n",
      "                ...   \n",
      "2021-09-20   -0.021593\n",
      "2021-09-21    0.003422\n",
      "2021-09-22    0.016732\n",
      "2021-09-23    0.006697\n",
      "2021-09-24    0.000613\n",
      "Name: log_return, Length: 6731, dtype: float64\n"
     ]
    }
   ],
   "source": [
    "AAPL['log_return'] = np.log(AAPL['Adj Close'] / AAPL['Adj Close'].shift(1))\n",
    "print (AAPL['log_return'])"
   ]
  },
  {
   "cell_type": "code",
   "execution_count": 64,
   "id": "241b1297",
   "metadata": {},
   "outputs": [
    {
     "data": {
      "image/png": "[encoded data removed]",
      "text/plain": [
       "<Figure size 1080x360 with 1 Axes>"
      ]
     },
     "metadata": {
      "needs_background": "light"
     },
     "output_type": "display_data"
    }
   ],
   "source": [
    "AAPL['log_return'].plot(figsize=(15,5))\n",
    "plt.show()"
   ]
  },
  {
   "cell_type": "code",
   "execution_count": 72,
   "id": "6fa4452a",
   "metadata": {},
   "outputs": [
    {
     "data": {
      "text/plain": [
       "0.0009249279452414539"
      ]
     },
     "execution_count": 72,
     "metadata": {},
     "output_type": "execute_result"
    }
   ],
   "source": [
    "log_return_d = AAPL['log_return'].mean()\n",
    "log_return_d"
   ]
  },
  {
   "cell_type": "code",
   "execution_count": 73,
   "id": "572cafdb",
   "metadata": {},
   "outputs": [
    {
     "data": {
      "text/plain": [
       "0.23123198631036346"
      ]
     },
     "execution_count": 73,
     "metadata": {},
     "output_type": "execute_result"
    }
   ],
   "source": [
    "log_return_a = AAPL['log_return'].mean() * 250\n",
    "log_return_a"
   ]
  },
  {
   "cell_type": "code",
   "execution_count": 74,
   "id": "391f5097",
   "metadata": {},
   "outputs": [
    {
     "name": "stdout",
     "output_type": "stream",
     "text": [
      "23.122999999999998\n"
     ]
    }
   ],
   "source": [
    "#Apple Log return in percentage points\n",
    "print (round(log_return_a, 5) * 100)"
   ]
  },
  {
   "cell_type": "code",
   "execution_count": 48,
   "id": "af6b5d38",
   "metadata": {},
   "outputs": [
    {
     "data": {
      "text/plain": [
       "{'1y Target Est': 167.92,\n",
       " '52 Week Range': '107.32 - 157.26',\n",
       " 'Ask': '146.97 x 1400',\n",
       " 'Avg. Volume': 79686860.0,\n",
       " 'Beta (5Y Monthly)': 1.2,\n",
       " 'Bid': '146.96 x 800',\n",
       " \"Day's Range\": '145.57 - 147.47',\n",
       " 'EPS (TTM)': 5.11,\n",
       " 'Earnings Date': 'Oct 27, 2021 - Nov 01, 2021',\n",
       " 'Ex-Dividend Date': 'Aug 06, 2021',\n",
       " 'Forward Dividend & Yield': '0.88 (0.60%)',\n",
       " 'Market Cap': '2.429T',\n",
       " 'Open': 145.66,\n",
       " 'PE Ratio (TTM)': 28.76,\n",
       " 'Previous Close': 146.83,\n",
       " 'Quote Price': 146.9199981689453,\n",
       " 'Volume': 53477869.0}"
      ]
     },
     "execution_count": 48,
     "metadata": {},
     "output_type": "execute_result"
    }
   ],
   "source": [
    "AAPLquote = si.get_quote_table(\"aapl\")\n",
    "AAPLquote"
   ]
  },
  {
   "cell_type": "code",
   "execution_count": 76,
   "id": "5fc80476",
   "metadata": {},
   "outputs": [
    {
     "data": {
      "text/plain": [
       "28.76"
      ]
     },
     "execution_count": 76,
     "metadata": {},
     "output_type": "execute_result"
    }
   ],
   "source": [
    "AAPLquote[\"PE Ratio (TTM)\"] "
   ]
  },
  {
   "cell_type": "code",
   "execution_count": 79,
   "id": "cf764ced",
   "metadata": {},
   "outputs": [
    {
     "data": {
      "text/html": [
       "<div>\n",
       "<style scoped>\n",
       "    .dataframe tbody tr th:only-of-type {\n",
       "        vertical-align: middle;\n",
       "    }\n",
       "\n",
       "    .dataframe tbody tr th {\n",
       "        vertical-align: top;\n",
       "    }\n",
       "\n",
       "    .dataframe thead th {\n",
       "        text-align: right;\n",
       "    }\n",
       "</style>\n",
       "<table border=\"1\" class=\"dataframe\">\n",
       "  <thead>\n",
       "    <tr style=\"text-align: right;\">\n",
       "      <th>endDate</th>\n",
       "      <th>2020-09-26</th>\n",
       "      <th>2019-09-28</th>\n",
       "      <th>2018-09-29</th>\n",
       "      <th>2017-09-30</th>\n",
       "    </tr>\n",
       "    <tr>\n",
       "      <th>Breakdown</th>\n",
       "      <th></th>\n",
       "      <th></th>\n",
       "      <th></th>\n",
       "      <th></th>\n",
       "    </tr>\n",
       "  </thead>\n",
       "  <tbody>\n",
       "    <tr>\n",
       "      <th>researchDevelopment</th>\n",
       "      <td>18752000000</td>\n",
       "      <td>16217000000</td>\n",
       "      <td>14236000000</td>\n",
       "      <td>11581000000</td>\n",
       "    </tr>\n",
       "    <tr>\n",
       "      <th>effectOfAccountingCharges</th>\n",
       "      <td>None</td>\n",
       "      <td>None</td>\n",
       "      <td>None</td>\n",
       "      <td>None</td>\n",
       "    </tr>\n",
       "    <tr>\n",
       "      <th>incomeBeforeTax</th>\n",
       "      <td>67091000000</td>\n",
       "      <td>65737000000</td>\n",
       "      <td>72903000000</td>\n",
       "      <td>64089000000</td>\n",
       "    </tr>\n",
       "    <tr>\n",
       "      <th>minorityInterest</th>\n",
       "      <td>None</td>\n",
       "      <td>None</td>\n",
       "      <td>None</td>\n",
       "      <td>None</td>\n",
       "    </tr>\n",
       "    <tr>\n",
       "      <th>netIncome</th>\n",
       "      <td>57411000000</td>\n",
       "      <td>55256000000</td>\n",
       "      <td>59531000000</td>\n",
       "      <td>48351000000</td>\n",
       "    </tr>\n",
       "    <tr>\n",
       "      <th>sellingGeneralAdministrative</th>\n",
       "      <td>19916000000</td>\n",
       "      <td>18245000000</td>\n",
       "      <td>16705000000</td>\n",
       "      <td>15261000000</td>\n",
       "    </tr>\n",
       "    <tr>\n",
       "      <th>grossProfit</th>\n",
       "      <td>104956000000</td>\n",
       "      <td>98392000000</td>\n",
       "      <td>101839000000</td>\n",
       "      <td>88186000000</td>\n",
       "    </tr>\n",
       "    <tr>\n",
       "      <th>ebit</th>\n",
       "      <td>66288000000</td>\n",
       "      <td>63930000000</td>\n",
       "      <td>70898000000</td>\n",
       "      <td>61344000000</td>\n",
       "    </tr>\n",
       "    <tr>\n",
       "      <th>operatingIncome</th>\n",
       "      <td>66288000000</td>\n",
       "      <td>63930000000</td>\n",
       "      <td>70898000000</td>\n",
       "      <td>61344000000</td>\n",
       "    </tr>\n",
       "    <tr>\n",
       "      <th>otherOperatingExpenses</th>\n",
       "      <td>None</td>\n",
       "      <td>None</td>\n",
       "      <td>None</td>\n",
       "      <td>None</td>\n",
       "    </tr>\n",
       "    <tr>\n",
       "      <th>interestExpense</th>\n",
       "      <td>-2873000000</td>\n",
       "      <td>-3576000000</td>\n",
       "      <td>-3240000000</td>\n",
       "      <td>-2323000000</td>\n",
       "    </tr>\n",
       "    <tr>\n",
       "      <th>extraordinaryItems</th>\n",
       "      <td>None</td>\n",
       "      <td>None</td>\n",
       "      <td>None</td>\n",
       "      <td>None</td>\n",
       "    </tr>\n",
       "    <tr>\n",
       "      <th>nonRecurring</th>\n",
       "      <td>None</td>\n",
       "      <td>None</td>\n",
       "      <td>None</td>\n",
       "      <td>None</td>\n",
       "    </tr>\n",
       "    <tr>\n",
       "      <th>otherItems</th>\n",
       "      <td>None</td>\n",
       "      <td>None</td>\n",
       "      <td>None</td>\n",
       "      <td>None</td>\n",
       "    </tr>\n",
       "    <tr>\n",
       "      <th>incomeTaxExpense</th>\n",
       "      <td>9680000000</td>\n",
       "      <td>10481000000</td>\n",
       "      <td>13372000000</td>\n",
       "      <td>15738000000</td>\n",
       "    </tr>\n",
       "    <tr>\n",
       "      <th>totalRevenue</th>\n",
       "      <td>274515000000</td>\n",
       "      <td>260174000000</td>\n",
       "      <td>265595000000</td>\n",
       "      <td>229234000000</td>\n",
       "    </tr>\n",
       "    <tr>\n",
       "      <th>totalOperatingExpenses</th>\n",
       "      <td>208227000000</td>\n",
       "      <td>196244000000</td>\n",
       "      <td>194697000000</td>\n",
       "      <td>167890000000</td>\n",
       "    </tr>\n",
       "    <tr>\n",
       "      <th>costOfRevenue</th>\n",
       "      <td>169559000000</td>\n",
       "      <td>161782000000</td>\n",
       "      <td>163756000000</td>\n",
       "      <td>141048000000</td>\n",
       "    </tr>\n",
       "    <tr>\n",
       "      <th>totalOtherIncomeExpenseNet</th>\n",
       "      <td>803000000</td>\n",
       "      <td>1807000000</td>\n",
       "      <td>2005000000</td>\n",
       "      <td>2745000000</td>\n",
       "    </tr>\n",
       "    <tr>\n",
       "      <th>discontinuedOperations</th>\n",
       "      <td>None</td>\n",
       "      <td>None</td>\n",
       "      <td>None</td>\n",
       "      <td>None</td>\n",
       "    </tr>\n",
       "    <tr>\n",
       "      <th>netIncomeFromContinuingOps</th>\n",
       "      <td>57411000000</td>\n",
       "      <td>55256000000</td>\n",
       "      <td>59531000000</td>\n",
       "      <td>48351000000</td>\n",
       "    </tr>\n",
       "    <tr>\n",
       "      <th>netIncomeApplicableToCommonShares</th>\n",
       "      <td>57411000000</td>\n",
       "      <td>55256000000</td>\n",
       "      <td>59531000000</td>\n",
       "      <td>48351000000</td>\n",
       "    </tr>\n",
       "  </tbody>\n",
       "</table>\n",
       "</div>"
      ],
      "text/plain": [
       "endDate                              2020-09-26    2019-09-28    2018-09-29  \\\n",
       "Breakdown                                                                     \n",
       "researchDevelopment                 18752000000   16217000000   14236000000   \n",
       "effectOfAccountingCharges                  None          None          None   \n",
       "incomeBeforeTax                     67091000000   65737000000   72903000000   \n",
       "minorityInterest                           None          None          None   \n",
       "netIncome                           57411000000   55256000000   59531000000   \n",
       "sellingGeneralAdministrative        19916000000   18245000000   16705000000   \n",
       "grossProfit                        104956000000   98392000000  101839000000   \n",
       "ebit                                66288000000   63930000000   70898000000   \n",
       "operatingIncome                     66288000000   63930000000   70898000000   \n",
       "otherOperatingExpenses                     None          None          None   \n",
       "interestExpense                     -2873000000   -3576000000   -3240000000   \n",
       "extraordinaryItems                         None          None          None   \n",
       "nonRecurring                               None          None          None   \n",
       "otherItems                                 None          None          None   \n",
       "incomeTaxExpense                     9680000000   10481000000   13372000000   \n",
       "totalRevenue                       274515000000  260174000000  265595000000   \n",
       "totalOperatingExpenses             208227000000  196244000000  194697000000   \n",
       "costOfRevenue                      169559000000  161782000000  163756000000   \n",
       "totalOtherIncomeExpenseNet            803000000    1807000000    2005000000   \n",
       "discontinuedOperations                     None          None          None   \n",
       "netIncomeFromContinuingOps          57411000000   55256000000   59531000000   \n",
       "netIncomeApplicableToCommonShares   57411000000   55256000000   59531000000   \n",
       "\n",
       "endDate                              2017-09-30  \n",
       "Breakdown                                        \n",
       "researchDevelopment                 11581000000  \n",
       "effectOfAccountingCharges                  None  \n",
       "incomeBeforeTax                     64089000000  \n",
       "minorityInterest                           None  \n",
       "netIncome                           48351000000  \n",
       "sellingGeneralAdministrative        15261000000  \n",
       "grossProfit                         88186000000  \n",
       "ebit                                61344000000  \n",
       "operatingIncome                     61344000000  \n",
       "otherOperatingExpenses                     None  \n",
       "interestExpense                     -2323000000  \n",
       "extraordinaryItems                         None  \n",
       "nonRecurring                               None  \n",
       "otherItems                                 None  \n",
       "incomeTaxExpense                    15738000000  \n",
       "totalRevenue                       229234000000  \n",
       "totalOperatingExpenses             167890000000  \n",
       "costOfRevenue                      141048000000  \n",
       "totalOtherIncomeExpenseNet           2745000000  \n",
       "discontinuedOperations                     None  \n",
       "netIncomeFromContinuingOps          48351000000  \n",
       "netIncomeApplicableToCommonShares   48351000000  "
      ]
     },
     "execution_count": 79,
     "metadata": {},
     "output_type": "execute_result"
    }
   ],
   "source": [
    "AAPLincome = si.get_income_statement(\"aapl\")\n",
    "AAPLincome"
   ]
  },
  {
   "cell_type": "code",
   "execution_count": 78,
   "id": "6aa11977",
   "metadata": {},
   "outputs": [
    {
     "data": {
      "text/plain": [
       "endDate\n",
       "2020-09-26    274515000000\n",
       "2019-09-28    260174000000\n",
       "2018-09-29    265595000000\n",
       "2017-09-30    229234000000\n",
       "Name: totalRevenue, dtype: object"
      ]
     },
     "execution_count": 78,
     "metadata": {},
     "output_type": "execute_result"
    }
   ],
   "source": [
    "AAPLincome.loc[\"totalRevenue\"]"
   ]
  },
  {
   "cell_type": "code",
   "execution_count": 83,
   "id": "a474f845",
   "metadata": {},
   "outputs": [
    {
     "data": {
      "text/html": [
       "<div>\n",
       "<style scoped>\n",
       "    .dataframe tbody tr th:only-of-type {\n",
       "        vertical-align: middle;\n",
       "    }\n",
       "\n",
       "    .dataframe tbody tr th {\n",
       "        vertical-align: top;\n",
       "    }\n",
       "\n",
       "    .dataframe thead th {\n",
       "        text-align: right;\n",
       "    }\n",
       "</style>\n",
       "<table border=\"1\" class=\"dataframe\">\n",
       "  <thead>\n",
       "    <tr style=\"text-align: right;\">\n",
       "      <th>endDate</th>\n",
       "      <th>2020-09-26</th>\n",
       "      <th>2019-09-28</th>\n",
       "      <th>2018-09-29</th>\n",
       "      <th>2017-09-30</th>\n",
       "    </tr>\n",
       "    <tr>\n",
       "      <th>Breakdown</th>\n",
       "      <th></th>\n",
       "      <th></th>\n",
       "      <th></th>\n",
       "      <th></th>\n",
       "    </tr>\n",
       "  </thead>\n",
       "  <tbody>\n",
       "    <tr>\n",
       "      <th>totalLiab</th>\n",
       "      <td>258549000000</td>\n",
       "      <td>248028000000</td>\n",
       "      <td>258578000000</td>\n",
       "      <td>241272000000</td>\n",
       "    </tr>\n",
       "    <tr>\n",
       "      <th>totalStockholderEquity</th>\n",
       "      <td>65339000000</td>\n",
       "      <td>90488000000</td>\n",
       "      <td>107147000000</td>\n",
       "      <td>134047000000</td>\n",
       "    </tr>\n",
       "    <tr>\n",
       "      <th>otherCurrentLiab</th>\n",
       "      <td>47867000000</td>\n",
       "      <td>43242000000</td>\n",
       "      <td>39293000000</td>\n",
       "      <td>38099000000</td>\n",
       "    </tr>\n",
       "    <tr>\n",
       "      <th>totalAssets</th>\n",
       "      <td>323888000000</td>\n",
       "      <td>338516000000</td>\n",
       "      <td>365725000000</td>\n",
       "      <td>375319000000</td>\n",
       "    </tr>\n",
       "    <tr>\n",
       "      <th>commonStock</th>\n",
       "      <td>50779000000</td>\n",
       "      <td>45174000000</td>\n",
       "      <td>40201000000</td>\n",
       "      <td>35867000000</td>\n",
       "    </tr>\n",
       "    <tr>\n",
       "      <th>otherCurrentAssets</th>\n",
       "      <td>11264000000</td>\n",
       "      <td>12352000000</td>\n",
       "      <td>12087000000</td>\n",
       "      <td>13936000000</td>\n",
       "    </tr>\n",
       "    <tr>\n",
       "      <th>retainedEarnings</th>\n",
       "      <td>14966000000</td>\n",
       "      <td>45898000000</td>\n",
       "      <td>70400000000</td>\n",
       "      <td>98330000000</td>\n",
       "    </tr>\n",
       "    <tr>\n",
       "      <th>otherLiab</th>\n",
       "      <td>46108000000</td>\n",
       "      <td>50503000000</td>\n",
       "      <td>48914000000</td>\n",
       "      <td>43251000000</td>\n",
       "    </tr>\n",
       "    <tr>\n",
       "      <th>treasuryStock</th>\n",
       "      <td>-406000000</td>\n",
       "      <td>-584000000</td>\n",
       "      <td>-3454000000</td>\n",
       "      <td>-150000000</td>\n",
       "    </tr>\n",
       "    <tr>\n",
       "      <th>otherAssets</th>\n",
       "      <td>33952000000</td>\n",
       "      <td>32978000000</td>\n",
       "      <td>22283000000</td>\n",
       "      <td>18177000000</td>\n",
       "    </tr>\n",
       "    <tr>\n",
       "      <th>cash</th>\n",
       "      <td>38016000000</td>\n",
       "      <td>48844000000</td>\n",
       "      <td>25913000000</td>\n",
       "      <td>20289000000</td>\n",
       "    </tr>\n",
       "    <tr>\n",
       "      <th>totalCurrentLiabilities</th>\n",
       "      <td>105392000000</td>\n",
       "      <td>105718000000</td>\n",
       "      <td>115929000000</td>\n",
       "      <td>100814000000</td>\n",
       "    </tr>\n",
       "    <tr>\n",
       "      <th>shortLongTermDebt</th>\n",
       "      <td>8773000000</td>\n",
       "      <td>10260000000</td>\n",
       "      <td>8784000000</td>\n",
       "      <td>6496000000</td>\n",
       "    </tr>\n",
       "    <tr>\n",
       "      <th>otherStockholderEquity</th>\n",
       "      <td>-406000000</td>\n",
       "      <td>-584000000</td>\n",
       "      <td>-3454000000</td>\n",
       "      <td>-150000000</td>\n",
       "    </tr>\n",
       "    <tr>\n",
       "      <th>propertyPlantEquipment</th>\n",
       "      <td>45336000000</td>\n",
       "      <td>37378000000</td>\n",
       "      <td>41304000000</td>\n",
       "      <td>33783000000</td>\n",
       "    </tr>\n",
       "    <tr>\n",
       "      <th>totalCurrentAssets</th>\n",
       "      <td>143713000000</td>\n",
       "      <td>162819000000</td>\n",
       "      <td>131339000000</td>\n",
       "      <td>128645000000</td>\n",
       "    </tr>\n",
       "    <tr>\n",
       "      <th>longTermInvestments</th>\n",
       "      <td>100887000000</td>\n",
       "      <td>105341000000</td>\n",
       "      <td>170799000000</td>\n",
       "      <td>194714000000</td>\n",
       "    </tr>\n",
       "    <tr>\n",
       "      <th>netTangibleAssets</th>\n",
       "      <td>65339000000</td>\n",
       "      <td>90488000000</td>\n",
       "      <td>107147000000</td>\n",
       "      <td>134047000000</td>\n",
       "    </tr>\n",
       "    <tr>\n",
       "      <th>shortTermInvestments</th>\n",
       "      <td>52927000000</td>\n",
       "      <td>51713000000</td>\n",
       "      <td>40388000000</td>\n",
       "      <td>53892000000</td>\n",
       "    </tr>\n",
       "    <tr>\n",
       "      <th>netReceivables</th>\n",
       "      <td>37445000000</td>\n",
       "      <td>45804000000</td>\n",
       "      <td>48995000000</td>\n",
       "      <td>35673000000</td>\n",
       "    </tr>\n",
       "    <tr>\n",
       "      <th>longTermDebt</th>\n",
       "      <td>98667000000</td>\n",
       "      <td>91807000000</td>\n",
       "      <td>93735000000</td>\n",
       "      <td>97207000000</td>\n",
       "    </tr>\n",
       "    <tr>\n",
       "      <th>inventory</th>\n",
       "      <td>4061000000</td>\n",
       "      <td>4106000000</td>\n",
       "      <td>3956000000</td>\n",
       "      <td>4855000000</td>\n",
       "    </tr>\n",
       "    <tr>\n",
       "      <th>accountsPayable</th>\n",
       "      <td>42296000000</td>\n",
       "      <td>46236000000</td>\n",
       "      <td>55888000000</td>\n",
       "      <td>44242000000</td>\n",
       "    </tr>\n",
       "  </tbody>\n",
       "</table>\n",
       "</div>"
      ],
      "text/plain": [
       "endDate                    2020-09-26    2019-09-28    2018-09-29  \\\n",
       "Breakdown                                                           \n",
       "totalLiab                258549000000  248028000000  258578000000   \n",
       "totalStockholderEquity    65339000000   90488000000  107147000000   \n",
       "otherCurrentLiab          47867000000   43242000000   39293000000   \n",
       "totalAssets              323888000000  338516000000  365725000000   \n",
       "commonStock               50779000000   45174000000   40201000000   \n",
       "otherCurrentAssets        11264000000   12352000000   12087000000   \n",
       "retainedEarnings          14966000000   45898000000   70400000000   \n",
       "otherLiab                 46108000000   50503000000   48914000000   \n",
       "treasuryStock              -406000000    -584000000   -3454000000   \n",
       "otherAssets               33952000000   32978000000   22283000000   \n",
       "cash                      38016000000   48844000000   25913000000   \n",
       "totalCurrentLiabilities  105392000000  105718000000  115929000000   \n",
       "shortLongTermDebt          8773000000   10260000000    8784000000   \n",
       "otherStockholderEquity     -406000000    -584000000   -3454000000   \n",
       "propertyPlantEquipment    45336000000   37378000000   41304000000   \n",
       "totalCurrentAssets       143713000000  162819000000  131339000000   \n",
       "longTermInvestments      100887000000  105341000000  170799000000   \n",
       "netTangibleAssets         65339000000   90488000000  107147000000   \n",
       "shortTermInvestments      52927000000   51713000000   40388000000   \n",
       "netReceivables            37445000000   45804000000   48995000000   \n",
       "longTermDebt              98667000000   91807000000   93735000000   \n",
       "inventory                  4061000000    4106000000    3956000000   \n",
       "accountsPayable           42296000000   46236000000   55888000000   \n",
       "\n",
       "endDate                    2017-09-30  \n",
       "Breakdown                              \n",
       "totalLiab                241272000000  \n",
       "totalStockholderEquity   134047000000  \n",
       "otherCurrentLiab          38099000000  \n",
       "totalAssets              375319000000  \n",
       "commonStock               35867000000  \n",
       "otherCurrentAssets        13936000000  \n",
       "retainedEarnings          98330000000  \n",
       "otherLiab                 43251000000  \n",
       "treasuryStock              -150000000  \n",
       "otherAssets               18177000000  \n",
       "cash                      20289000000  \n",
       "totalCurrentLiabilities  100814000000  \n",
       "shortLongTermDebt          6496000000  \n",
       "otherStockholderEquity     -150000000  \n",
       "propertyPlantEquipment    33783000000  \n",
       "totalCurrentAssets       128645000000  \n",
       "longTermInvestments      194714000000  \n",
       "netTangibleAssets        134047000000  \n",
       "shortTermInvestments      53892000000  \n",
       "netReceivables            35673000000  \n",
       "longTermDebt              97207000000  \n",
       "inventory                  4855000000  \n",
       "accountsPayable           44242000000  "
      ]
     },
     "execution_count": 83,
     "metadata": {},
     "output_type": "execute_result"
    }
   ],
   "source": [
    "AAPLsheet = si.get_balance_sheet(\"aapl\")\n",
    "AAPLsheet"
   ]
  },
  {
   "cell_type": "code",
   "execution_count": 81,
   "id": "a6f8a845",
   "metadata": {},
   "outputs": [
    {
     "data": {
      "text/plain": [
       "endDate\n",
       "2020-09-26     65339000000\n",
       "2019-09-28     90488000000\n",
       "2018-09-29    107147000000\n",
       "2017-09-30    134047000000\n",
       "Name: totalStockholderEquity, dtype: int64"
      ]
     },
     "execution_count": 81,
     "metadata": {},
     "output_type": "execute_result"
    }
   ],
   "source": [
    "AAPLsheet.loc['totalStockholderEquity']"
   ]
  },
  {
   "cell_type": "code",
   "execution_count": 84,
   "id": "e6e4c86c",
   "metadata": {},
   "outputs": [
    {
     "data": {
      "image/png": "[encoded data removed]",
      "text/plain": [
       "<Figure size 1080x360 with 1 Axes>"
      ]
     },
     "metadata": {
      "needs_background": "light"
     },
     "output_type": "display_data"
    }
   ],
   "source": [
    "AAPLsheet.loc['totalStockholderEquity'].plot(figsize=(15,5))\n",
    "plt.show()"
   ]
  },
  {
   "cell_type": "code",
   "execution_count": null,
   "id": "768c3f4c",
   "metadata": {},
   "outputs": [],
   "source": []
  }
 ],
 "metadata": {
  "kernelspec": {
   "display_name": "Python 3",
   "language": "python",
   "name": "python3"
  },
  "language_info": {
   "codemirror_mode": {
    "name": "ipython",
    "version": 3
   },
   "file_extension": ".py",
   "mimetype": "text/x-python",
   "name": "python",
   "nbconvert_exporter": "python",
   "pygments_lexer": "ipython3",
   "version": "3.8.8"
  }
 },
 "nbformat": 4,
 "nbformat_minor": 5
}
